{
 "cells": [
  {
   "cell_type": "markdown",
   "metadata": {},
   "source": [
    "# Principal Component Analysis"
   ]
  },
  {
   "cell_type": "markdown",
   "metadata": {},
   "source": [
    "This challenge will help you gain intuition on how a **Principal Component Analysis** works.  "
   ]
  },
  {
   "cell_type": "markdown",
   "metadata": {},
   "source": [
    "## 1) Generate Data"
   ]
  },
  {
   "cell_type": "markdown",
   "metadata": {},
   "source": [
    "We want a dataset with **100 observations** and **2 correlated features**\n",
    "\n",
    "👇 Run the cell below to generate your data  \n",
    "💡 Notice the correlation between your features"
   ]
  },
  {
   "cell_type": "code",
   "execution_count": 1,
   "metadata": {
    "scrolled": true
   },
   "outputs": [
    {
     "data": {
      "text/html": [
       "<div>\n",
       "<style scoped>\n",
       "    .dataframe tbody tr th:only-of-type {\n",
       "        vertical-align: middle;\n",
       "    }\n",
       "\n",
       "    .dataframe tbody tr th {\n",
       "        vertical-align: top;\n",
       "    }\n",
       "\n",
       "    .dataframe thead th {\n",
       "        text-align: right;\n",
       "    }\n",
       "</style>\n",
       "<table border=\"1\" class=\"dataframe\">\n",
       "  <thead>\n",
       "    <tr style=\"text-align: right;\">\n",
       "      <th></th>\n",
       "      <th>0</th>\n",
       "      <th>1</th>\n",
       "    </tr>\n",
       "  </thead>\n",
       "  <tbody>\n",
       "    <tr>\n",
       "      <th>0</th>\n",
       "      <td>1.00</td>\n",
       "      <td>0.77</td>\n",
       "    </tr>\n",
       "    <tr>\n",
       "      <th>1</th>\n",
       "      <td>0.77</td>\n",
       "      <td>1.00</td>\n",
       "    </tr>\n",
       "  </tbody>\n",
       "</table>\n",
       "</div>"
      ],
      "text/plain": [
       "      0     1\n",
       "0  1.00  0.77\n",
       "1  0.77  1.00"
      ]
     },
     "execution_count": 1,
     "metadata": {},
     "output_type": "execute_result"
    }
   ],
   "source": [
    "import numpy as np\n",
    "import pandas as pd\n",
    "import matplotlib.pyplot as plt\n",
    "\n",
    "# Generate a dataset with 100 observations and 2 correlated features.\n",
    "seed = np.random.RandomState(42)\n",
    "feature_1 = seed.normal(5, 1, 100)\n",
    "feature_2 = .7 * feature_1 + seed.normal(0, .5, 100)\n",
    "X = np.array([feature_1, feature_2]).T\n",
    "X = pd.DataFrame(X)\n",
    "\n",
    "X.corr().round(3)"
   ]
  },
  {
   "cell_type": "markdown",
   "metadata": {},
   "source": [
    "❓ Make a scatter plot of your two features against each other"
   ]
  },
  {
   "cell_type": "code",
   "execution_count": 5,
   "metadata": {
    "tags": [
     "challengify"
    ]
   },
   "outputs": [
    {
     "data": {
      "text/plain": [
       "<matplotlib.collections.PathCollection at 0x7f771d5a5580>"
      ]
     },
     "execution_count": 5,
     "metadata": {},
     "output_type": "execute_result"
    },
    {
     "data": {
      "image/png": "[encoded data removed]",
      "text/plain": [
       "<Figure size 432x288 with 1 Axes>"
      ]
     },
     "metadata": {
      "needs_background": "light"
     },
     "output_type": "display_data"
    }
   ],
   "source": [
    "plt.scatter(X[0], X[1])"
   ]
  },
  {
   "cell_type": "markdown",
   "metadata": {},
   "source": [
    "☝️ You can see the positive correlation between the features  \n",
    "\n",
    "Our observations are packed along a single line, it is not easy to spot differences between them\n",
    "\n",
    "💡 PCA will help us find the directions that cancel this correlation"
   ]
  },
  {
   "cell_type": "markdown",
   "metadata": {},
   "source": [
    "## 2) Principal Components"
   ]
  },
  {
   "cell_type": "markdown",
   "metadata": {},
   "source": [
    "👉 Import `PCA` from `sklearn` and initiate a model with `n_components=2`\n",
    "\n",
    "❓Fit it on your `X`, and assign it to `pca`"
   ]
  },
  {
   "cell_type": "code",
   "execution_count": 6,
   "metadata": {
    "tags": [
     "challengify"
    ]
   },
   "outputs": [],
   "source": [
    "from sklearn.decomposition import PCA"
   ]
  },
  {
   "cell_type": "code",
   "execution_count": 7,
   "metadata": {},
   "outputs": [],
   "source": [
    "pca = PCA(n_components=2)"
   ]
  },
  {
   "cell_type": "code",
   "execution_count": 8,
   "metadata": {
    "scrolled": true
   },
   "outputs": [
    {
     "data": {
      "text/plain": [
       "PCA(n_components=2)"
      ]
     },
     "execution_count": 8,
     "metadata": {},
     "output_type": "execute_result"
    }
   ],
   "source": [
    "pca.fit(X)"
   ]
  },
  {
   "cell_type": "markdown",
   "metadata": {},
   "source": [
    "Let's focus on two objects in that `PCA`: \n",
    "\n",
    "`pca.components_`: it's a set of eigenvectors which point to the directions where the variance is maximally explained: the **directions of maximum variance**.\n",
    "\n",
    "`pca.explained_variance_`:  $\\frac{Var(Principal\\; Component)}{Var(X)}$, given by the corresponding L2 norm of these eigenvectors."
   ]
  },
  {
   "cell_type": "code",
   "execution_count": 10,
   "metadata": {},
   "outputs": [
    {
     "data": {
      "text/plain": [
       "array([[-0.79286897, -0.60939216],\n",
       "       [-0.60939216,  0.79286897]])"
      ]
     },
     "execution_count": 10,
     "metadata": {},
     "output_type": "execute_result"
    }
   ],
   "source": [
    "pca.components_"
   ]
  },
  {
   "cell_type": "code",
   "execution_count": 11,
   "metadata": {},
   "outputs": [
    {
     "data": {
      "text/plain": [
       "array([1.2231014 , 0.15046893])"
      ]
     },
     "execution_count": 11,
     "metadata": {},
     "output_type": "execute_result"
    }
   ],
   "source": [
    "pca.explained_variance_"
   ]
  },
  {
   "cell_type": "markdown",
   "metadata": {},
   "source": [
    "👇 Run the cell below to visualize your two Principal Components"
   ]
  },
  {
   "cell_type": "code",
   "execution_count": 12,
   "metadata": {},
   "outputs": [
    {
     "data": {
      "image/png": "[encoded data removed]",
      "text/plain": [
       "<Figure size 360x360 with 1 Axes>"
      ]
     },
     "metadata": {
      "needs_background": "light"
     },
     "output_type": "display_data"
    }
   ],
   "source": [
    "plt.figure(figsize=(5,5))\n",
    "\n",
    "plt.scatter(X[0], X[1])\n",
    "\n",
    "for (length, vector) in zip(pca.explained_variance_, pca.components_):\n",
    "    v = vector * np.sqrt(length) # Square root of their lenghts to compare same \"units\"\n",
    "    plt.quiver(*X.mean(axis=0), *v, units='xy', scale=1, color='r')"
   ]
  },
  {
   "cell_type": "markdown",
   "metadata": {},
   "source": [
    "The length of the vector is a measure of the standard deviation of the data when projected onto that axis!\n",
    "\n",
    "We can then use those directions to \"explain\" most of our observations behaviour - most of the distinction between observations happens along thoses axis. "
   ]
  },
  {
   "cell_type": "markdown",
   "metadata": {},
   "source": [
    "## 3) Apply PCA"
   ]
  },
  {
   "cell_type": "markdown",
   "metadata": {},
   "source": [
    "We can use these components to project every sample of our dataset onto the directions of maximum variance.\n",
    "\n",
    " ❓ Use the `transform` method of your `pca` on `X` and store the result in `X_transformed`  \n",
    " ❓ Plot your projected features in `X_transformed`against one another.  \n",
    " ❓ Compute the correlation between your transformed features in `X_transformed`"
   ]
  },
  {
   "cell_type": "code",
   "execution_count": 13,
   "metadata": {
    "tags": [
     "challengify"
    ]
   },
   "outputs": [],
   "source": [
    "X_transformed = pca.transform(X)"
   ]
  },
  {
   "cell_type": "code",
   "execution_count": 15,
   "metadata": {
    "tags": [
     "challengify"
    ]
   },
   "outputs": [
    {
     "data": {
      "text/plain": [
       "(100, 2)"
      ]
     },
     "execution_count": 15,
     "metadata": {},
     "output_type": "execute_result"
    }
   ],
   "source": [
    "X_transformed.shape"
   ]
  },
  {
   "cell_type": "code",
   "execution_count": 16,
   "metadata": {},
   "outputs": [
    {
     "data": {
      "text/plain": [
       "<matplotlib.collections.PathCollection at 0x7f7704f37760>"
      ]
     },
     "execution_count": 16,
     "metadata": {},
     "output_type": "execute_result"
    },
    {
     "data": {
      "image/png": "[encoded data removed]",
      "text/plain": [
       "<Figure size 432x288 with 1 Axes>"
      ]
     },
     "metadata": {
      "needs_background": "light"
     },
     "output_type": "display_data"
    }
   ],
   "source": [
    "plt.scatter(X_transformed[:,0], X_transformed[:,1])"
   ]
  },
  {
   "cell_type": "code",
   "execution_count": 20,
   "metadata": {},
   "outputs": [
    {
     "data": {
      "text/plain": [
       "(2, 100)"
      ]
     },
     "execution_count": 20,
     "metadata": {},
     "output_type": "execute_result"
    }
   ],
   "source": [
    "X_transformed.T.shape"
   ]
  },
  {
   "cell_type": "code",
   "execution_count": 24,
   "metadata": {},
   "outputs": [
    {
     "data": {
      "text/plain": [
       "array([[-0.294,  0.177, -0.805, -1.733,  0.215,  0.043, -2.62 , -1.109,\n",
       "         0.374, -0.759,  1.03 ,  0.456, -0.433,  1.463,  2.042,  0.474,\n",
       "         1.126, -0.147,  0.639,  1.373, -2.148,  0.433, -0.63 ,  2.045,\n",
       "         0.365, -0.923,  1.586, -0.405,  0.582,  0.389,  1.086, -2.399,\n",
       "         0.22 ,  1.026, -0.843,  0.897, -0.136,  2.368,  1.252,  0.015,\n",
       "        -1.09 , -0.727,  0.511,  0.191,  1.604,  0.52 ,  0.819, -1.007,\n",
       "        -0.698,  1.94 , -0.591,  0.244,  0.913, -0.937, -1.466, -1.038,\n",
       "         0.335,  0.113, -0.161, -1.51 ,  0.761, -0.133,  0.876,  1.589,\n",
       "        -1.404, -1.899, -0.283, -1.922, -0.486,  0.897, -0.29 , -1.747,\n",
       "        -0.053, -2.132,  2.99 , -1.374, -0.23 , -0.198, -0.151,  1.475,\n",
       "        -0.043, -0.294, -1.596,  0.365,  0.934,  0.274, -1.38 , -0.499,\n",
       "         0.784, -0.284, -0.102, -1.562,  0.671,  0.659,  0.306,  1.547,\n",
       "        -0.212, -0.485, -0.144,  0.514],\n",
       "       [-0.603, -0.174, -0.186, -0.415, -0.066,  0.158,  0.647,  0.013,\n",
       "         0.113, -0.074, -0.75 ,  0.   , -0.004,  1.066,  0.003,  0.136,\n",
       "         0.027, -0.495,  0.488,  0.36 ,  0.219, -0.363,  0.538, -0.493,\n",
       "         0.248,  0.848, -0.345, -0.259,  0.058, -0.198, -0.597, -0.088,\n",
       "        -0.435,  0.231, -0.424,  0.666, -0.336, -0.036,  0.38 , -0.513,\n",
       "         0.036,  0.494, -0.645,  0.075,  0.169,  0.335, -0.48 , -0.595,\n",
       "         0.174,  0.199,  0.067,  0.144, -0.247,  0.044,  0.046, -0.348,\n",
       "         0.771,  0.19 , -0.505,  0.193, -0.375,  0.308,  0.505, -0.275,\n",
       "         0.323,  0.075,  0.315,  0.683, -0.131, -0.278, -0.387, -0.422,\n",
       "        -0.043,  0.036,  0.238,  0.269, -0.014,  0.578, -0.124,  1.172,\n",
       "         0.245, -0.374, -0.519,  0.205, -0.059,  0.296,  0.123, -0.061,\n",
       "        -0.321, -0.643, -0.197,  0.272,  0.109, -0.491,  0.075,  0.218,\n",
       "        -0.381,  0.032,  0.008, -0.455]])"
      ]
     },
     "execution_count": 24,
     "metadata": {},
     "output_type": "execute_result"
    }
   ],
   "source": [
    "X_transformed.T.round(3)"
   ]
  },
  {
   "cell_type": "code",
   "execution_count": 21,
   "metadata": {},
   "outputs": [
    {
     "data": {
      "text/plain": [
       "array([[1., 0.],\n",
       "       [0., 1.]])"
      ]
     },
     "execution_count": 21,
     "metadata": {},
     "output_type": "execute_result"
    }
   ],
   "source": [
    "np.corrcoef(X_transformed.T).round(3)"
   ]
  },
  {
   "cell_type": "markdown",
   "metadata": {},
   "source": [
    "☝️ There is no correlation at all between your transformed features.  \n",
    "\n",
    "This makes it easier to study the behaviour between observations since they are no longer packed along a single line."
   ]
  },
  {
   "cell_type": "markdown",
   "metadata": {},
   "source": [
    "🏁 **Don't forget to push your notebook.**  \n",
    "\n",
    "Proceed with the challenges of the day and come back here if you have time 😉"
   ]
  },
  {
   "cell_type": "markdown",
   "metadata": {},
   "source": [
    "## 4 - Optional) With a little help from Scaling"
   ]
  },
  {
   "cell_type": "markdown",
   "metadata": {},
   "source": [
    "Remember that the `projections` obtained with the `PCA` is nothing more than the dot product of your initial `X` and your transposed components.  \n",
    "\n",
    "👉 Compute your projected values manually by performing the dot product: $X.PC^T$.  \n",
    "\n",
    "❓ Use `np.allclose`, to check that your `X_transformed` is equal to your dot product $X.PC^T$."
   ]
  },
  {
   "cell_type": "code",
   "execution_count": null,
   "metadata": {},
   "outputs": [],
   "source": [
    "np.dot(X, )"
   ]
  },
  {
   "cell_type": "code",
   "execution_count": 25,
   "metadata": {
    "scrolled": true,
    "tags": [
     "challengify"
    ]
   },
   "outputs": [
    {
     "ename": "TypeError",
     "evalue": "_allclose_dispatcher() missing 1 required positional argument: 'b'",
     "output_type": "error",
     "traceback": [
      "\u001b[0;31m---------------------------------------------------------------------------\u001b[0m",
      "\u001b[0;31mTypeError\u001b[0m                                 Traceback (most recent call last)",
      "\u001b[0;32m/tmp/ipykernel_10929/4253373724.py\u001b[0m in \u001b[0;36m<module>\u001b[0;34m\u001b[0m\n\u001b[0;32m----> 1\u001b[0;31m \u001b[0mnp\u001b[0m\u001b[0;34m.\u001b[0m\u001b[0mallclose\u001b[0m\u001b[0;34m(\u001b[0m\u001b[0mX_transformed\u001b[0m\u001b[0;34m)\u001b[0m\u001b[0;34m\u001b[0m\u001b[0;34m\u001b[0m\u001b[0m\n\u001b[0m",
      "\u001b[0;32m<__array_function__ internals>\u001b[0m in \u001b[0;36mallclose\u001b[0;34m(*args, **kwargs)\u001b[0m\n",
      "\u001b[0;31mTypeError\u001b[0m: _allclose_dispatcher() missing 1 required positional argument: 'b'"
     ]
    }
   ],
   "source": [
    "np.allclose(X_transformed)"
   ]
  },
  {
   "cell_type": "markdown",
   "metadata": {},
   "source": [
    "It's not equal 😱  \n",
    "\n",
    "When the `PCA` of `sklearn` applies the reduction, it does so on a `X` that is, *centered*, but not *scaled*.\n",
    "\n",
    "This means that `PCA().transform(X)` is actually equivalent to `np.dot(X - X.mean(axis=0), PC)`"
   ]
  },
  {
   "cell_type": "code",
   "execution_count": null,
   "metadata": {},
   "outputs": [],
   "source": [
    "np.allclose(X_transformed, np.dot(X - X.mean(axis=0), PC))"
   ]
  },
  {
   "cell_type": "markdown",
   "metadata": {},
   "source": [
    "That is why when using a `PCA` we often recommend to scale, more precisely standardize, your data first so that they are already centered  \n",
    "This way, using `PCA` or dot product will be equivalent"
   ]
  }
 ],
 "metadata": {
  "kernelspec": {
   "display_name": "Python 3 (ipykernel)",
   "language": "python",
   "name": "python3"
  },
  "language_info": {
   "codemirror_mode": {
    "name": "ipython",
    "version": 3
   },
   "file_extension": ".py",
   "mimetype": "text/x-python",
   "name": "python",
   "nbconvert_exporter": "python",
   "pygments_lexer": "ipython3",
   "version": "3.8.12"
  },
  "toc": {
   "base_numbering": 1,
   "nav_menu": {},
   "number_sections": true,
   "sideBar": true,
   "skip_h1_title": false,
   "title_cell": "Table of Contents",
   "title_sidebar": "Contents",
   "toc_cell": false,
   "toc_position": {},
   "toc_section_display": true,
   "toc_window_display": false
  }
 },
 "nbformat": 4,
 "nbformat_minor": 2
}
